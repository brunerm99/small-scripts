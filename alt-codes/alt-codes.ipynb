{
 "cells": [
  {
   "cell_type": "code",
   "execution_count": 20,
   "metadata": {},
   "outputs": [],
   "source": [
    "import pandas as pd\n",
    "from sqlalchemy import create_engine"
   ]
  },
  {
   "cell_type": "code",
   "execution_count": 56,
   "metadata": {},
   "outputs": [
    {
     "data": {
      "text/html": [
       "<div>\n",
       "<style scoped>\n",
       "    .dataframe tbody tr th:only-of-type {\n",
       "        vertical-align: middle;\n",
       "    }\n",
       "\n",
       "    .dataframe tbody tr th {\n",
       "        vertical-align: top;\n",
       "    }\n",
       "\n",
       "    .dataframe thead th {\n",
       "        text-align: right;\n",
       "    }\n",
       "</style>\n",
       "<table border=\"1\" class=\"dataframe\">\n",
       "  <thead>\n",
       "    <tr style=\"text-align: right;\">\n",
       "      <th></th>\n",
       "      <th>Unicode</th>\n",
       "      <th>Alt Code</th>\n",
       "      <th>Description</th>\n",
       "    </tr>\n",
       "  </thead>\n",
       "  <tbody>\n",
       "    <tr>\n",
       "      <th>0</th>\n",
       "      <td></td>\n",
       "      <td>255.0</td>\n",
       "      <td>NO-BREAK SPACE</td>\n",
       "    </tr>\n",
       "    <tr>\n",
       "      <th>1</th>\n",
       "      <td>¡</td>\n",
       "      <td>173.0</td>\n",
       "      <td>INVERTED EXCLAMATION MARK</td>\n",
       "    </tr>\n",
       "    <tr>\n",
       "      <th>2</th>\n",
       "      <td>¢</td>\n",
       "      <td>155.0</td>\n",
       "      <td>CENT SIGN</td>\n",
       "    </tr>\n",
       "    <tr>\n",
       "      <th>3</th>\n",
       "      <td>£</td>\n",
       "      <td>156.0</td>\n",
       "      <td>POUND SIGN</td>\n",
       "    </tr>\n",
       "    <tr>\n",
       "      <th>4</th>\n",
       "      <td>¤</td>\n",
       "      <td>NaN</td>\n",
       "      <td>CURRENCY SIGN</td>\n",
       "    </tr>\n",
       "  </tbody>\n",
       "</table>\n",
       "</div>"
      ],
      "text/plain": [
       "  Unicode  Alt Code                Description\n",
       "0             255.0             NO-BREAK SPACE\n",
       "1       ¡     173.0  INVERTED EXCLAMATION MARK\n",
       "2       ¢     155.0                  CENT SIGN\n",
       "3       £     156.0                 POUND SIGN\n",
       "4       ¤       NaN              CURRENCY SIGN"
      ]
     },
     "execution_count": 56,
     "metadata": {},
     "output_type": "execute_result"
    }
   ],
   "source": [
    "table = (\n",
    "    pd.read_html(\"https://en.wikipedia.org/wiki/Alt_code#List_of_codes\")[1][[\"Unicode.1\", \"CP437\", \"Unicode name\"]]\n",
    "    .rename(columns={\"Unicode.1\": \"Unicode\", \"CP437\": \"Alt Code\", \"Unicode name\": \"Description\"})\n",
    ")\n",
    "table[\"Unicode\"] = table.Unicode.apply(lambda x: chr(int(x[-4:], 16)))\n",
    "table.head()"
   ]
  },
  {
   "cell_type": "code",
   "execution_count": 57,
   "metadata": {},
   "outputs": [],
   "source": [
    "engine = create_engine(\"sqlite:////home/marchall/documents/small_scripts/alt-codes/symbols.db\", echo=False)\n",
    "with engine.begin() as connection:\n",
    "    table.to_sql(\"symbols\", con=connection, if_exists=\"replace\")\n"
   ]
  },
  {
   "cell_type": "code",
   "execution_count": 58,
   "metadata": {},
   "outputs": [
    {
     "data": {
      "text/plain": [
       "[(0, '\\xa0', 255.0, 'NO-BREAK SPACE'),\n",
       " (1, '¡', 173.0, 'INVERTED EXCLAMATION MARK'),\n",
       " (2, '¢', 155.0, 'CENT SIGN'),\n",
       " (3, '£', 156.0, 'POUND SIGN'),\n",
       " (4, '¤', None, 'CURRENCY SIGN'),\n",
       " (5, '¥', 157.0, 'YEN SIGN'),\n",
       " (6, '¦', None, 'BROKEN BAR'),\n",
       " (7, '§', 21.0, 'SECTION SIGN'),\n",
       " (8, '¨', None, 'DIAERESIS'),\n",
       " (9, '©', None, 'COPYRIGHT SIGN')]"
      ]
     },
     "execution_count": 58,
     "metadata": {},
     "output_type": "execute_result"
    }
   ],
   "source": [
    "engine.execute(\"SELECT * from symbols LIMIT 10\").fetchall()"
   ]
  }
 ],
 "metadata": {
  "kernelspec": {
   "display_name": "data",
   "language": "python",
   "name": "python3"
  },
  "language_info": {
   "codemirror_mode": {
    "name": "ipython",
    "version": 3
   },
   "file_extension": ".py",
   "mimetype": "text/x-python",
   "name": "python",
   "nbconvert_exporter": "python",
   "pygments_lexer": "ipython3",
   "version": "3.10.4"
  },
  "orig_nbformat": 4,
  "vscode": {
   "interpreter": {
    "hash": "268ffdf4810d35cd3eaae316fa26c0032c7e7670dd755b0d47220d26c7662066"
   }
  }
 },
 "nbformat": 4,
 "nbformat_minor": 2
}
